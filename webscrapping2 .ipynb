{
 "cells": [
  {
   "cell_type": "code",
   "execution_count": 1,
   "id": "bfbd0793",
   "metadata": {},
   "outputs": [],
   "source": [
    "#Import Packages\n",
    "from selenium import webdriver\n",
    "import time\n",
    "import pandas as pd\n",
    "import os"
   ]
  },
  {
   "cell_type": "code",
   "execution_count": 2,
   "id": "635558aa",
   "metadata": {},
   "outputs": [],
   "source": [
    "#Import Packages\n",
    "\n",
    "from selenium.webdriver.support.select import Select\n",
    "from selenium.webdriver.support.ui import WebDriverWait\n",
    "from selenium.webdriver.common.by import By\n",
    "from selenium.webdriver.support import expected_conditions as EC"
   ]
  },
  {
   "cell_type": "code",
   "execution_count": 3,
   "id": "a93acfd2",
   "metadata": {},
   "outputs": [],
   "source": [
    "url1='https://www.linkedin.com/jobs/search?keywords=Marketing%20Data%20Analyst&location=Berlin%2C%20Berlin%2C%20Germany&geoId=106967730&trk=public_jobs_jobs-search-bar_search-submit&position=1&pageNum=0'\n"
   ]
  },
  {
   "cell_type": "code",
   "execution_count": 4,
   "id": "10b549d0",
   "metadata": {},
   "outputs": [
    {
     "name": "stderr",
     "output_type": "stream",
     "text": [
      "C:\\Users\\pooja\\AppData\\Local\\Temp\\ipykernel_3040\\158824610.py:3: DeprecationWarning: executable_path has been deprecated, please pass in a Service object\n",
      "  driver = webdriver.Chrome(executable_path=r'chromedriver.exe')\n"
     ]
    }
   ],
   "source": [
    "#Load the web driver and get the url\n",
    "\n",
    "driver = webdriver.Chrome(executable_path=r'chromedriver.exe')\n",
    "driver.implicitly_wait(10)\n",
    "driver.get(url1)"
   ]
  },
  {
   "cell_type": "code",
   "execution_count": 5,
   "id": "f0193d34",
   "metadata": {},
   "outputs": [],
   "source": [
    "y=driver.find_elements(By.CLASS_NAME,'results-context-header__job-count')[0].text"
   ]
  },
  {
   "cell_type": "code",
   "execution_count": 6,
   "id": "fc6a1202",
   "metadata": {},
   "outputs": [
    {
     "data": {
      "text/plain": [
       "str"
      ]
     },
     "execution_count": 6,
     "metadata": {},
     "output_type": "execute_result"
    }
   ],
   "source": [
    "type(y)"
   ]
  },
  {
   "cell_type": "code",
   "execution_count": 7,
   "id": "753da140",
   "metadata": {},
   "outputs": [],
   "source": [
    "n=pd.to_numeric(y)"
   ]
  },
  {
   "cell_type": "code",
   "execution_count": 8,
   "id": "d87bbf21",
   "metadata": {},
   "outputs": [
    {
     "data": {
      "text/plain": [
       "218"
      ]
     },
     "execution_count": 8,
     "metadata": {},
     "output_type": "execute_result"
    }
   ],
   "source": [
    "n"
   ]
  },
  {
   "cell_type": "code",
   "execution_count": 9,
   "id": "dfd00ee0",
   "metadata": {},
   "outputs": [],
   "source": [
    "i = 2\n",
    "while i <= int((n+200)/25)+1: \n",
    "    driver.execute_script(\"window.scrollTo(0, document.body.scrollHeight);\")\n",
    "    i = i + 1\n",
    "    \n",
    "    try:\n",
    "        send=driver.find_element_by_xpath(\"//button[@aria-label='Load more results']\")\n",
    "        driver.execute_script(\"arguments[0].click();\", send)   \n",
    "        time.sleep(3)\n",
    "    \n",
    "        \n",
    "         #buu=driver.find_elements_by_tag_name(\"button\")\n",
    "         #x=[btn for btn in buu if btn.text==\"See more jobs\"]\n",
    "         #for btn in x:\n",
    "                #driver.execute_script(\"arguments[0].click();\", btn)\n",
    "                #time.sleep(3)\n",
    "            \n",
    "    except:\n",
    "        pass\n",
    "        time.sleep(5)"
   ]
  },
  {
   "cell_type": "code",
   "execution_count": 10,
   "id": "fc57df2c",
   "metadata": {},
   "outputs": [],
   "source": [
    "#Create empty lists for company name and job title\n",
    "\n",
    "companyname= []\n",
    "titlename= []\n",
    "Addressname=[]"
   ]
  },
  {
   "cell_type": "code",
   "execution_count": 11,
   "id": "cc1dacca",
   "metadata": {},
   "outputs": [
    {
     "name": "stdout",
     "output_type": "stream",
     "text": [
      "no\n"
     ]
    }
   ],
   "source": [
    "#Find company name and append it to the blank list\n",
    "\n",
    "try:\n",
    "    for i in range(n):\n",
    "        company=driver.find_elements(By.CLASS_NAME,'base-search-card__subtitle ')[i].text\n",
    "        companyname.append(company)\n",
    "        \n",
    "except IndexError:\n",
    "    print(\"no\")\n",
    "        "
   ]
  },
  {
   "cell_type": "code",
   "execution_count": 12,
   "id": "e302b4a9",
   "metadata": {},
   "outputs": [
    {
     "data": {
      "text/plain": [
       "175"
      ]
     },
     "execution_count": 12,
     "metadata": {},
     "output_type": "execute_result"
    }
   ],
   "source": [
    "len(companyname)"
   ]
  },
  {
   "cell_type": "code",
   "execution_count": 13,
   "id": "9001d7b7",
   "metadata": {},
   "outputs": [
    {
     "name": "stdout",
     "output_type": "stream",
     "text": [
      "no\n"
     ]
    }
   ],
   "source": [
    "#Find title name and append it to the blank list\n",
    "\n",
    "try:\n",
    "    for i in range(n):\n",
    "        \n",
    "        \n",
    "        title=driver.find_elements(By.CLASS_NAME,'base-search-card__title')[i].text\n",
    "    \n",
    "\n",
    "        titlename.append(title)\n",
    "    \n",
    "except IndexError:\n",
    "    print(\"no\")\n",
    "        "
   ]
  },
  {
   "cell_type": "code",
   "execution_count": 14,
   "id": "6cf9db1b",
   "metadata": {},
   "outputs": [
    {
     "data": {
      "text/plain": [
       "175"
      ]
     },
     "execution_count": 14,
     "metadata": {},
     "output_type": "execute_result"
    }
   ],
   "source": [
    "len(titlename)"
   ]
  },
  {
   "cell_type": "code",
   "execution_count": 15,
   "id": "26ff487f",
   "metadata": {},
   "outputs": [],
   "source": [
    "# try:\n",
    "#     for i in range(n):\n",
    "#         location = driver.find_element(By.XPATH,'//*[starts-with(@class, \"pv-top-card-section__location\")]/text()').extract_first()\n",
    "#         Addressname.append(location)\n",
    "        \n",
    "# except IndexError:\n",
    "#     print(\"no\")"
   ]
  },
  {
   "cell_type": "code",
   "execution_count": 16,
   "id": "fbc11b70",
   "metadata": {},
   "outputs": [],
   "source": [
    "# len(Addressname)"
   ]
  },
  {
   "cell_type": "code",
   "execution_count": 17,
   "id": "3a5603c6",
   "metadata": {},
   "outputs": [],
   "source": [
    "#Create dataframe for company name and title\n",
    "\n",
    "companyfinal=pd.DataFrame(companyname,columns=[\"company\"])\n",
    "titlefinal=pd.DataFrame(titlename,columns=[\"title\"])"
   ]
  },
  {
   "cell_type": "code",
   "execution_count": 18,
   "id": "6e6f2132",
   "metadata": {},
   "outputs": [],
   "source": [
    "#Join the two lists\n",
    "\n",
    "x=companyfinal.join(titlefinal)\n"
   ]
  },
  {
   "cell_type": "code",
   "execution_count": 19,
   "id": "01f1d7ca",
   "metadata": {},
   "outputs": [
    {
     "data": {
      "text/html": [
       "<div>\n",
       "<style scoped>\n",
       "    .dataframe tbody tr th:only-of-type {\n",
       "        vertical-align: middle;\n",
       "    }\n",
       "\n",
       "    .dataframe tbody tr th {\n",
       "        vertical-align: top;\n",
       "    }\n",
       "\n",
       "    .dataframe thead th {\n",
       "        text-align: right;\n",
       "    }\n",
       "</style>\n",
       "<table border=\"1\" class=\"dataframe\">\n",
       "  <thead>\n",
       "    <tr style=\"text-align: right;\">\n",
       "      <th></th>\n",
       "      <th>company</th>\n",
       "      <th>title</th>\n",
       "    </tr>\n",
       "  </thead>\n",
       "  <tbody>\n",
       "    <tr>\n",
       "      <th>0</th>\n",
       "      <td>COMO - We are hiring!</td>\n",
       "      <td>Marketing Data Analyst (m/w/x)</td>\n",
       "    </tr>\n",
       "    <tr>\n",
       "      <th>1</th>\n",
       "      <td>Zizoo</td>\n",
       "      <td>Marketing Data Analyst (m/f/x)</td>\n",
       "    </tr>\n",
       "    <tr>\n",
       "      <th>2</th>\n",
       "      <td>Native Instruments</td>\n",
       "      <td>Data Analyst - Digital Marketing (all genders)</td>\n",
       "    </tr>\n",
       "    <tr>\n",
       "      <th>3</th>\n",
       "      <td>Stratosphere Games GmbH</td>\n",
       "      <td>Games Data Analyst (m/f/d) - Business Analysis...</td>\n",
       "    </tr>\n",
       "    <tr>\n",
       "      <th>4</th>\n",
       "      <td>gocomo.io</td>\n",
       "      <td>Marketing Data Analyst in Influencer Marketing...</td>\n",
       "    </tr>\n",
       "    <tr>\n",
       "      <th>...</th>\n",
       "      <td>...</td>\n",
       "      <td>...</td>\n",
       "    </tr>\n",
       "    <tr>\n",
       "      <th>170</th>\n",
       "      <td>adesso insurance solutions GmbH</td>\n",
       "      <td>Business Analyst Datenmigration (all genders) ...</td>\n",
       "    </tr>\n",
       "    <tr>\n",
       "      <th>171</th>\n",
       "      <td>Deloitte</td>\n",
       "      <td>Business Analyst (m/w/d) Human Capital - Organ...</td>\n",
       "    </tr>\n",
       "    <tr>\n",
       "      <th>172</th>\n",
       "      <td>Delivery Hero</td>\n",
       "      <td>Senior, Consumer Insights &amp; Brand Researcher L...</td>\n",
       "    </tr>\n",
       "    <tr>\n",
       "      <th>173</th>\n",
       "      <td>a&amp;o Hostels</td>\n",
       "      <td>Duales Studium - B.A. Tourismusmanagement (m/w...</td>\n",
       "    </tr>\n",
       "    <tr>\n",
       "      <th>174</th>\n",
       "      <td>GASAG Gruppe</td>\n",
       "      <td>Anwendungsbetreuer*in BAS Applikationen (m/w/d...</td>\n",
       "    </tr>\n",
       "  </tbody>\n",
       "</table>\n",
       "<p>175 rows × 2 columns</p>\n",
       "</div>"
      ],
      "text/plain": [
       "                             company  \\\n",
       "0              COMO - We are hiring!   \n",
       "1                              Zizoo   \n",
       "2                 Native Instruments   \n",
       "3            Stratosphere Games GmbH   \n",
       "4                          gocomo.io   \n",
       "..                               ...   \n",
       "170  adesso insurance solutions GmbH   \n",
       "171                         Deloitte   \n",
       "172                    Delivery Hero   \n",
       "173                      a&o Hostels   \n",
       "174                     GASAG Gruppe   \n",
       "\n",
       "                                                 title  \n",
       "0                       Marketing Data Analyst (m/w/x)  \n",
       "1                       Marketing Data Analyst (m/f/x)  \n",
       "2       Data Analyst - Digital Marketing (all genders)  \n",
       "3    Games Data Analyst (m/f/d) - Business Analysis...  \n",
       "4    Marketing Data Analyst in Influencer Marketing...  \n",
       "..                                                 ...  \n",
       "170  Business Analyst Datenmigration (all genders) ...  \n",
       "171  Business Analyst (m/w/d) Human Capital - Organ...  \n",
       "172  Senior, Consumer Insights & Brand Researcher L...  \n",
       "173  Duales Studium - B.A. Tourismusmanagement (m/w...  \n",
       "174  Anwendungsbetreuer*in BAS Applikationen (m/w/d...  \n",
       "\n",
       "[175 rows x 2 columns]"
      ]
     },
     "execution_count": 19,
     "metadata": {},
     "output_type": "execute_result"
    }
   ],
   "source": [
    "x"
   ]
  },
  {
   "cell_type": "code",
   "execution_count": 20,
   "id": "03b8e96e",
   "metadata": {},
   "outputs": [],
   "source": [
    "#Save file in your directory\n",
    "\n",
    "x.to_csv('linkedin.csv')"
   ]
  },
  {
   "cell_type": "code",
   "execution_count": 21,
   "id": "48b7ee31",
   "metadata": {},
   "outputs": [],
   "source": [
    "#Find job links and append it to a list\n",
    "\n",
    "jobList = driver.find_elements(By.CLASS_NAME,'base-card__full-link')\n",
    "hrefList = []\n",
    "for e in jobList:\n",
    "    hrefList.append(e.get_attribute('href'))\n",
    "\n",
    "#for href in hrefList:\n",
    "    #link.append(href)\n",
    "    "
   ]
  },
  {
   "cell_type": "code",
   "execution_count": 22,
   "id": "05d706e7",
   "metadata": {},
   "outputs": [
    {
     "data": {
      "text/plain": [
       "['https://de.linkedin.com/jobs/view/marketing-data-analyst-m-w-x-at-como-we-are-hiring%21-3344399349?refId=Iz8OrWCBSS%2BnRwIiTlQNmQ%3D%3D&trackingId=Wyp4frPmFCf3W%2FzRh530Fg%3D%3D&position=1&pageNum=0&trk=public_jobs_jserp-result_search-card',\n",
       " 'https://de.linkedin.com/jobs/view/marketing-data-analyst-m-f-x-at-zizoo-3349758215?refId=Iz8OrWCBSS%2BnRwIiTlQNmQ%3D%3D&trackingId=qhXfTWEp3soPCgEPoeGU%2Bg%3D%3D&position=2&pageNum=0&trk=public_jobs_jserp-result_search-card',\n",
       " 'https://de.linkedin.com/jobs/view/data-analyst-digital-marketing-all-genders-at-native-instruments-3323758868?refId=Iz8OrWCBSS%2BnRwIiTlQNmQ%3D%3D&trackingId=M5Njgi2xrh0c7Z312jE2kA%3D%3D&position=3&pageNum=0&trk=public_jobs_jserp-result_search-card',\n",
       " 'https://de.linkedin.com/jobs/view/games-data-analyst-m-f-d-business-analysis-datenbankentwicklung-bi-ingenieur-at-stratosphere-games-gmbh-3131062699?refId=Iz8OrWCBSS%2BnRwIiTlQNmQ%3D%3D&trackingId=4P7KFrV3WRWzKHMk1GELiQ%3D%3D&position=4&pageNum=0&trk=public_jobs_jserp-result_search-card',\n",
       " 'https://de.linkedin.com/jobs/view/digital-analyst-at-digital-motion-gmbh-3350741008?refId=Iz8OrWCBSS%2BnRwIiTlQNmQ%3D%3D&trackingId=DEyu%2FzsXQdkP2dJONA4imw%3D%3D&position=6&pageNum=0&trk=public_jobs_jserp-result_search-card',\n",
       " 'https://de.linkedin.com/jobs/view/bi-data-analyst-engineer-m-w-d-at-init-ag-f%C3%BCr-digitale-kommunikation-3347056575?refId=Iz8OrWCBSS%2BnRwIiTlQNmQ%3D%3D&trackingId=x%2FFQTB2EKO5GsHuI%2FSX%2BPA%3D%3D&position=7&pageNum=0&trk=public_jobs_jserp-result_search-card',\n",
       " 'https://de.linkedin.com/jobs/view/business-data-analyst-im-bereich-treasury-at-adac-service-gmbh-3350218252?refId=Iz8OrWCBSS%2BnRwIiTlQNmQ%3D%3D&trackingId=3PkCvCcWGsViaymafR02ZQ%3D%3D&position=8&pageNum=0&trk=public_jobs_jserp-result_search-card',\n",
       " 'https://de.linkedin.com/jobs/view/expert-business-data-analyst-m-f-d-hybrid-option-ger-at-basf-3333600037?refId=Iz8OrWCBSS%2BnRwIiTlQNmQ%3D%3D&trackingId=VpoXM5NXsl3BwIJQH3aFOg%3D%3D&position=9&pageNum=0&trk=public_jobs_jserp-result_search-card',\n",
       " 'https://de.linkedin.com/jobs/view/business-analyst-f-m-d-%E2%80%93-core-accounting-80%25-100%25-at-avaloq-3300817111?refId=Iz8OrWCBSS%2BnRwIiTlQNmQ%3D%3D&trackingId=CaQq7dx7U9hhh1UXi23Nlg%3D%3D&position=10&pageNum=0&trk=public_jobs_jserp-result_search-card',\n",
       " 'https://de.linkedin.com/jobs/view/business-analyst-data-integration-m-w-d-at-swiss-life-asset-managers-deutschland-3351692577?refId=Iz8OrWCBSS%2BnRwIiTlQNmQ%3D%3D&trackingId=fy6EANNqE%2BWrtudMbx8VIQ%3D%3D&position=11&pageNum=0&trk=public_jobs_jserp-result_search-card',\n",
       " 'https://de.linkedin.com/jobs/view/controller-business-analyst-w-m-d-at-flexim-3337710780?refId=Iz8OrWCBSS%2BnRwIiTlQNmQ%3D%3D&trackingId=VZarzt630y%2FFnDKzmPlwkg%3D%3D&position=12&pageNum=0&trk=public_jobs_jserp-result_search-card',\n",
       " 'https://de.linkedin.com/jobs/view/business-audit-analyst-at-n26-group-3146253950?refId=Iz8OrWCBSS%2BnRwIiTlQNmQ%3D%3D&trackingId=H924IafdGPTowc7he411sQ%3D%3D&position=13&pageNum=0&trk=public_jobs_jserp-result_search-card',\n",
       " 'https://de.linkedin.com/jobs/view/business-data-analyst-im-bereich-treasury-m-w-d-at-dkb-deutsche-kreditbank-ag-3324208803?refId=Iz8OrWCBSS%2BnRwIiTlQNmQ%3D%3D&trackingId=lfX7zme%2BT642DHeSn7qNGA%3D%3D&position=14&pageNum=0&trk=public_jobs_jserp-result_search-card',\n",
       " 'https://de.linkedin.com/jobs/view/next-generation-market-analyst-m-w-d-at-i-potentials-gmbh-3315341775?refId=Iz8OrWCBSS%2BnRwIiTlQNmQ%3D%3D&trackingId=hLZJeLAD6W%2BVOQYmtrAbfw%3D%3D&position=15&pageNum=0&trk=public_jobs_jserp-result_search-card',\n",
       " 'https://de.linkedin.com/jobs/view/businessanalyst-in-w-m-d-at-investitionsbank-berlin-ibb-3333296353?refId=Iz8OrWCBSS%2BnRwIiTlQNmQ%3D%3D&trackingId=klnYaW3jtpeCCU9X2sh%2F4w%3D%3D&position=16&pageNum=0&trk=public_jobs_jserp-result_search-card',\n",
       " 'https://de.linkedin.com/jobs/view/controller-business-analyst-w-m-d-at-flexim-3344385733?refId=Iz8OrWCBSS%2BnRwIiTlQNmQ%3D%3D&trackingId=g1dQLSZtei4uVfkY8CyMDA%3D%3D&position=17&pageNum=0&trk=public_jobs_jserp-result_search-card',\n",
       " 'https://de.linkedin.com/jobs/view/business-analyst-regulatory-reporting-f-m-d-at-avaloq-3327436978?refId=Iz8OrWCBSS%2BnRwIiTlQNmQ%3D%3D&trackingId=YMXVs2baU7KsENAyttf07A%3D%3D&position=18&pageNum=0&trk=public_jobs_jserp-result_search-card',\n",
       " 'https://de.linkedin.com/jobs/view/business-analyst-web-analyst-m-w-d-e-commerce-at-lautsprecher-teufel-3340593173?refId=Iz8OrWCBSS%2BnRwIiTlQNmQ%3D%3D&trackingId=7P7Pb2ZGdKFcHAfjecx3Zg%3D%3D&position=19&pageNum=0&trk=public_jobs_jserp-result_search-card',\n",
       " 'https://de.linkedin.com/jobs/view/website-analyst-m-w-d-at-avantgarde-experts-3334896878?refId=Iz8OrWCBSS%2BnRwIiTlQNmQ%3D%3D&trackingId=RmGNs2AvJBv9ABtH0AhPfg%3D%3D&position=20&pageNum=0&trk=public_jobs_jserp-result_search-card',\n",
       " 'https://de.linkedin.com/jobs/view/business-analyst-in-sales-analytics-d-w-m-at-scout24-gruppe-3280697994?refId=Iz8OrWCBSS%2BnRwIiTlQNmQ%3D%3D&trackingId=58AOvya%2BC%2FRPQp%2FnodcV8A%3D%3D&position=21&pageNum=0&trk=public_jobs_jserp-result_search-card',\n",
       " 'https://de.linkedin.com/jobs/view/sales-and-marketing-analyst-at-emnify-3316204508?refId=Iz8OrWCBSS%2BnRwIiTlQNmQ%3D%3D&trackingId=RRkg4vk3zUq9Oo8HS83GKw%3D%3D&position=22&pageNum=0&trk=public_jobs_jserp-result_search-card',\n",
       " 'https://de.linkedin.com/jobs/view/data-analyst-at-utopia-music-3264441819?refId=Iz8OrWCBSS%2BnRwIiTlQNmQ%3D%3D&trackingId=EqtQcFGN%2BIlsust6U7IPaw%3D%3D&position=23&pageNum=0&trk=public_jobs_jserp-result_search-card',\n",
       " 'https://de.linkedin.com/jobs/view/business-analyst-it-f-m-d-at-digital-charging-solutions-gmbh-3290121348?refId=Iz8OrWCBSS%2BnRwIiTlQNmQ%3D%3D&trackingId=apb2272b6pO6Q0gTwj8n8Q%3D%3D&position=24&pageNum=0&trk=public_jobs_jserp-result_search-card',\n",
       " 'https://de.linkedin.com/jobs/view/marketing-analyst-f-m-d-at-spark-networks-3271057975?refId=Iz8OrWCBSS%2BnRwIiTlQNmQ%3D%3D&trackingId=NbVjZPEpm50BmDGIktdOpw%3D%3D&position=25&pageNum=0&trk=public_jobs_jserp-result_search-card',\n",
       " 'https://de.linkedin.com/jobs/view/junior-business-data-analyst-industry-consulting-insurance-w-m-x-at-ntt-data-dach-3355080477?refId=xtAhgF1ODbwRzp8RlFbDqw%3D%3D&trackingId=Bbwg9YJWbEAZF2%2BctKL%2BDw%3D%3D&position=1&pageNum=1&trk=public_jobs_jserp-result_search-card',\n",
       " 'https://de.linkedin.com/jobs/view/business-analyst-consultant-data-engineering-governance-m-w-d-at-deloitte-3281723946?refId=xtAhgF1ODbwRzp8RlFbDqw%3D%3D&trackingId=qHuG0ViKKpv%2BH%2BWgtp49uA%3D%3D&position=2&pageNum=1&trk=public_jobs_jserp-result_search-card',\n",
       " 'https://de.linkedin.com/jobs/view/business-data-analyst-at-adac-service-gmbh-3350226129?refId=xtAhgF1ODbwRzp8RlFbDqw%3D%3D&trackingId=WzTpTwpgqx24V6%2BNgN8CcQ%3D%3D&position=3&pageNum=1&trk=public_jobs_jserp-result_search-card',\n",
       " 'https://de.linkedin.com/jobs/view/business-intelligence-analyst-m-f-d-at-oetker-digital-3311933990?refId=xtAhgF1ODbwRzp8RlFbDqw%3D%3D&trackingId=Xy%2BQjmmLoIgClzNitfDbPQ%3D%3D&position=4&pageNum=1&trk=public_jobs_jserp-result_search-card',\n",
       " 'https://de.linkedin.com/jobs/view/data-analyst-bi-analyst-m-w-d-at-datapine-3307922090?refId=xtAhgF1ODbwRzp8RlFbDqw%3D%3D&trackingId=RZfIaeUgOhqJkRaC50qNiA%3D%3D&position=5&pageNum=1&trk=public_jobs_jserp-result_search-card',\n",
       " 'https://de.linkedin.com/jobs/view/data-analyst-marketing-communications-at-parity-technologies-3316187575?refId=xtAhgF1ODbwRzp8RlFbDqw%3D%3D&trackingId=ue4DhtNS%2BrdCeWWVUeJ4Kw%3D%3D&position=6&pageNum=1&trk=public_jobs_jserp-result_search-card',\n",
       " 'https://de.linkedin.com/jobs/view/bi-analyst-data-analyst-m-w-d-at-bundesdruckerei-gruppe-3080455876?refId=xtAhgF1ODbwRzp8RlFbDqw%3D%3D&trackingId=xc4Cad1CXFjn0JXOgdDAcA%3D%3D&position=7&pageNum=1&trk=public_jobs_jserp-result_search-card',\n",
       " 'https://de.linkedin.com/jobs/view/senior-digital-marketing-analyst-d-f-m-at-immoscout24-3330790062?refId=xtAhgF1ODbwRzp8RlFbDqw%3D%3D&trackingId=c5gRUCa%2FDN8YNAHyneKZzg%3D%3D&position=8&pageNum=1&trk=public_jobs_jserp-result_search-card',\n",
       " 'https://de.linkedin.com/jobs/view/business-intelligence-analyst-m-f-d-at-oetker-digital-3341039152?refId=xtAhgF1ODbwRzp8RlFbDqw%3D%3D&trackingId=zkzdFUepThU4C%2F5c5Zh2uA%3D%3D&position=9&pageNum=1&trk=public_jobs_jserp-result_search-card',\n",
       " 'https://de.linkedin.com/jobs/view/data-analyst-decision-scientist-marketing-at-vinted-3281183827?refId=xtAhgF1ODbwRzp8RlFbDqw%3D%3D&trackingId=yKJshIDHASHwUwAKU6gScA%3D%3D&position=10&pageNum=1&trk=public_jobs_jserp-result_search-card',\n",
       " 'https://de.linkedin.com/jobs/view/business-data-analyst-m-w-d-at-dkb-deutsche-kreditbank-ag-3273609900?refId=xtAhgF1ODbwRzp8RlFbDqw%3D%3D&trackingId=tcgCzW%2B%2B%2B%2FTT%2BVet%2Bj7E6Q%3D%3D&position=11&pageNum=1&trk=public_jobs_jserp-result_search-card',\n",
       " 'https://de.linkedin.com/jobs/view/business-analyst-digital-at-yara-international-3311938537?refId=xtAhgF1ODbwRzp8RlFbDqw%3D%3D&trackingId=h3FTBaXS2fGPvH4NQ0BZaw%3D%3D&position=12&pageNum=1&trk=public_jobs_jserp-result_search-card',\n",
       " 'https://de.linkedin.com/jobs/view/business-analyst-m-w-d-at-mercedes-benz-tech-innovation-3294887495?refId=xtAhgF1ODbwRzp8RlFbDqw%3D%3D&trackingId=zdCSdxOqVL2rvY9atGIB1w%3D%3D&position=13&pageNum=1&trk=public_jobs_jserp-result_search-card',\n",
       " 'https://de.linkedin.com/jobs/view/campaign-analyst-m-w-d-at-joblift-3343779286?refId=xtAhgF1ODbwRzp8RlFbDqw%3D%3D&trackingId=sGkT2eNPI0HA7LTJVHJYOQ%3D%3D&position=14&pageNum=1&trk=public_jobs_jserp-result_search-card',\n",
       " 'https://de.linkedin.com/jobs/view/daten-und-business-analystin-daten-und-business-analyst-w-m-d-at-berliner-verkehrsbetriebe-bvg-3335515998?refId=xtAhgF1ODbwRzp8RlFbDqw%3D%3D&trackingId=dgG18cnM1Th9%2BSswDQFtWQ%3D%3D&position=15&pageNum=1&trk=public_jobs_jserp-result_search-card',\n",
       " 'https://de.linkedin.com/jobs/view/digital-business-analyst-f-m-d-at-yara-international-3172660091?refId=xtAhgF1ODbwRzp8RlFbDqw%3D%3D&trackingId=vSovOL3jPuocUpWngLv%2BTA%3D%3D&position=16&pageNum=1&trk=public_jobs_jserp-result_search-card',\n",
       " 'https://de.linkedin.com/jobs/view/bi-data-analyst-engineer-m-w-d-at-init-ag-f%C3%BCr-digitale-kommunikation-3304720072?refId=xtAhgF1ODbwRzp8RlFbDqw%3D%3D&trackingId=W3u5m%2B69s%2BgzXNokGJYhgw%3D%3D&position=17&pageNum=1&trk=public_jobs_jserp-result_search-card',\n",
       " 'https://de.linkedin.com/jobs/view/senior-data-analyst-marketing-d-f-m-at-gymondo-3349855392?refId=xtAhgF1ODbwRzp8RlFbDqw%3D%3D&trackingId=ybb1je1Z1c5hKCJQPR%2Fgow%3D%3D&position=18&pageNum=1&trk=public_jobs_jserp-result_search-card',\n",
       " 'https://de.linkedin.com/jobs/view/data-analyst-power-bi-w-m-d-at-nigel-frank-international-3313506420?refId=xtAhgF1ODbwRzp8RlFbDqw%3D%3D&trackingId=1dyeY%2FyB8AcUyN6PHGYN2A%3D%3D&position=19&pageNum=1&trk=public_jobs_jserp-result_search-card',\n",
       " 'https://de.linkedin.com/jobs/view/senior-data-analyst-all-genders-at-caspar-health-3346053469?refId=xtAhgF1ODbwRzp8RlFbDqw%3D%3D&trackingId=zlA4r6vh4E2%2BvwQihFmYhQ%3D%3D&position=20&pageNum=1&trk=public_jobs_jserp-result_search-card',\n",
       " 'https://de.linkedin.com/jobs/view/business-analyst-data-science-financial-services-w-m-d-at-capgemini-3342812135?refId=xtAhgF1ODbwRzp8RlFbDqw%3D%3D&trackingId=IOV5zxMGglnDIf5xiAaUHA%3D%3D&position=21&pageNum=1&trk=public_jobs_jserp-result_search-card',\n",
       " 'https://de.linkedin.com/jobs/view/digital-analyst-m-w-d-at-vodafone-3348582091?refId=xtAhgF1ODbwRzp8RlFbDqw%3D%3D&trackingId=vJKkmw1ozk%2BJ14sTi2M31Q%3D%3D&position=22&pageNum=1&trk=public_jobs_jserp-result_search-card',\n",
       " 'https://de.linkedin.com/jobs/view/data-analyst-power-bi-w-m-d-at-nigel-frank-international-3344169408?refId=xtAhgF1ODbwRzp8RlFbDqw%3D%3D&trackingId=5%2BCxirlsDHdg6FTRVJrgxw%3D%3D&position=23&pageNum=1&trk=public_jobs_jserp-result_search-card',\n",
       " 'https://de.linkedin.com/jobs/view/data-analyst-power-bi-w-m-d-at-nigel-frank-international-3344172087?refId=xtAhgF1ODbwRzp8RlFbDqw%3D%3D&trackingId=9GshkfA3l6B3CCpD12UgHw%3D%3D&position=24&pageNum=1&trk=public_jobs_jserp-result_search-card',\n",
       " 'https://de.linkedin.com/jobs/view/senior-digital-marketing-analyst-d-f-m-at-immoscout24-3334870112?refId=xtAhgF1ODbwRzp8RlFbDqw%3D%3D&trackingId=kwrlu903HSMQDVEIEKx7Bw%3D%3D&position=25&pageNum=1&trk=public_jobs_jserp-result_search-card',\n",
       " 'https://de.linkedin.com/jobs/view/marketing-analyst-f-m-x-at-ecoligo-3325569045?refId=eqnRX8ydyPk0y8rL1GFM8w%3D%3D&trackingId=6C07veq54rK3gJpvW5SjrQ%3D%3D&position=1&pageNum=2&trk=public_jobs_jserp-result_search-card',\n",
       " 'https://de.linkedin.com/jobs/view/data-analyst-power-bi-w-m-d-berlin-at-nigel-frank-international-3349839968?refId=eqnRX8ydyPk0y8rL1GFM8w%3D%3D&trackingId=nDmnQAXL4ymEHOUUZXTStQ%3D%3D&position=2&pageNum=2&trk=public_jobs_jserp-result_search-card',\n",
       " 'https://de.linkedin.com/jobs/view/data-analyst-power-bi-w-m-d-berlin-at-nigel-frank-international-3270811789?refId=eqnRX8ydyPk0y8rL1GFM8w%3D%3D&trackingId=eTQ%2B%2FFC5cM%2BMXbdrwuUwcA%3D%3D&position=3&pageNum=2&trk=public_jobs_jserp-result_search-card',\n",
       " 'https://de.linkedin.com/jobs/view/sales-marketing-analyst-at-emnify-3310320066?refId=eqnRX8ydyPk0y8rL1GFM8w%3D%3D&trackingId=%2B38DBgZdxH4YngF%2BvmXifQ%3D%3D&position=4&pageNum=2&trk=public_jobs_jserp-result_search-card',\n",
       " 'https://de.linkedin.com/jobs/view/business-analyst-human-resources-w-m-d-at-50hertz-transmission-gmbh-3276618330?refId=eqnRX8ydyPk0y8rL1GFM8w%3D%3D&trackingId=1jf92P7LDevXCOazSVR5NQ%3D%3D&position=5&pageNum=2&trk=public_jobs_jserp-result_search-card',\n",
       " 'https://de.linkedin.com/jobs/view/marketing-analyst-at-pipedrive-3346522474?refId=eqnRX8ydyPk0y8rL1GFM8w%3D%3D&trackingId=RUSac04mYkLmaFg6iO%2F7zA%3D%3D&position=6&pageNum=2&trk=public_jobs_jserp-result_search-card',\n",
       " 'https://de.linkedin.com/jobs/view/bi-data-analyst-business-analyst-schwerpunkt-microsoft-at-new-yorker-3346742465?refId=eqnRX8ydyPk0y8rL1GFM8w%3D%3D&trackingId=INHLg%2FfC2GtYiuMjJsWTPg%3D%3D&position=7&pageNum=2&trk=public_jobs_jserp-result_search-card',\n",
       " 'https://de.linkedin.com/jobs/view/data-analyst-business-and-product-analytics-at-smartly-io-3303032969?refId=eqnRX8ydyPk0y8rL1GFM8w%3D%3D&trackingId=rZLlLDaUETVPlbYphpG5ww%3D%3D&position=8&pageNum=2&trk=public_jobs_jserp-result_search-card',\n",
       " 'https://de.linkedin.com/jobs/view/senior-digital-marketing-analyst-d-f-m-at-scout24-gruppe-3327928756?refId=eqnRX8ydyPk0y8rL1GFM8w%3D%3D&trackingId=38mHTRa%2BCHraZoLxKnhclA%3D%3D&position=9&pageNum=2&trk=public_jobs_jserp-result_search-card',\n",
       " 'https://de.linkedin.com/jobs/view/lead-growth-analyst-bolt-food-at-bolt-3314048073?refId=eqnRX8ydyPk0y8rL1GFM8w%3D%3D&trackingId=g4hCW9iT5XkveXllWZri8Q%3D%3D&position=10&pageNum=2&trk=public_jobs_jserp-result_search-card',\n",
       " 'https://de.linkedin.com/jobs/view/business-market-analyst-m-w-d-at-bundesdruckerei-gruppe-3090885185?refId=eqnRX8ydyPk0y8rL1GFM8w%3D%3D&trackingId=i%2Bb6POPArEjTkSBHPqyvOA%3D%3D&position=11&pageNum=2&trk=public_jobs_jserp-result_search-card',\n",
       " 'https://de.linkedin.com/jobs/view/social-media-content-analyst-m-w-d-at-grafton-recruitment-3322571649?refId=eqnRX8ydyPk0y8rL1GFM8w%3D%3D&trackingId=mt8vmeujhatrJAKuJT71IQ%3D%3D&position=12&pageNum=2&trk=public_jobs_jserp-result_search-card',\n",
       " 'https://de.linkedin.com/jobs/view/marketing-analyst-f-m-d-at-wunderflats-3318685761?refId=eqnRX8ydyPk0y8rL1GFM8w%3D%3D&trackingId=bRWHuanG0BPpQjLvH5yVPA%3D%3D&position=13&pageNum=2&trk=public_jobs_jserp-result_search-card',\n",
       " 'https://de.linkedin.com/jobs/view/digital-analyst-im-marketing-at-primal-state-performance-gmbh-3341570028?refId=eqnRX8ydyPk0y8rL1GFM8w%3D%3D&trackingId=t7A7tCfkXSxuyEkAIm0zpA%3D%3D&position=14&pageNum=2&trk=public_jobs_jserp-result_search-card',\n",
       " 'https://de.linkedin.com/jobs/view/business-strategy-analyst-at-sumup-3341569680?refId=eqnRX8ydyPk0y8rL1GFM8w%3D%3D&trackingId=QLYfMoDfAIa%2BPU%2F7im8KYA%3D%3D&position=15&pageNum=2&trk=public_jobs_jserp-result_search-card',\n",
       " 'https://de.linkedin.com/jobs/view/business-analyst-microsoft-cloud-m-w-d-at-helios-kliniken-gmbh-3311780458?refId=eqnRX8ydyPk0y8rL1GFM8w%3D%3D&trackingId=AW6ih265ZPlXtuxiE%2Fzwiw%3D%3D&position=16&pageNum=2&trk=public_jobs_jserp-result_search-card',\n",
       " 'https://de.linkedin.com/jobs/view/business-analyst-for-r-a-reporting-strategy-projects-supervising-associate-at-ey-3354705117?refId=eqnRX8ydyPk0y8rL1GFM8w%3D%3D&trackingId=0fhisuSf4to1XY70MOBxcA%3D%3D&position=17&pageNum=2&trk=public_jobs_jserp-result_search-card',\n",
       " 'https://de.linkedin.com/jobs/view/junior-soc-analyst-m-w-d-business-analysis-it-security-ingenieur-at-abtis-gmbh-3079941825?refId=eqnRX8ydyPk0y8rL1GFM8w%3D%3D&trackingId=3DmC5kNC7zuYMeYPECqVYw%3D%3D&position=18&pageNum=2&trk=public_jobs_jserp-result_search-card',\n",
       " 'https://de.linkedin.com/jobs/view/senior-digital-marketing-analyst-m-f-d-at-autoscout24-gmbh-3302840972?refId=eqnRX8ydyPk0y8rL1GFM8w%3D%3D&trackingId=kCWwQ9GH2Nd6CphzjzuCUA%3D%3D&position=19&pageNum=2&trk=public_jobs_jserp-result_search-card',\n",
       " 'https://de.linkedin.com/jobs/view/senior-digital-marketing-analyst-d-f-m-at-scout24-gruppe-3350741046?refId=eqnRX8ydyPk0y8rL1GFM8w%3D%3D&trackingId=sCKF1y6y5FjgTYMKDwog%2Fg%3D%3D&position=20&pageNum=2&trk=public_jobs_jserp-result_search-card',\n",
       " 'https://de.linkedin.com/jobs/view/crm-analyst-m-w-d-at-aristo-pharma-gmbh-3350721041?refId=eqnRX8ydyPk0y8rL1GFM8w%3D%3D&trackingId=kUejNWQIH8HCEiK3t0J6UA%3D%3D&position=21&pageNum=2&trk=public_jobs_jserp-result_search-card',\n",
       " 'https://de.linkedin.com/jobs/view/data-warehouse-business-intelligence-developer-m-w-d-business-analysis-datenbankentwicklung-bi-ingenieur-at-haba-familygroup-3300516332?refId=eqnRX8ydyPk0y8rL1GFM8w%3D%3D&trackingId=GUjrA8Usj%2BbRY1IutjN8AQ%3D%3D&position=22&pageNum=2&trk=public_jobs_jserp-result_search-card',\n",
       " 'https://de.linkedin.com/jobs/view/finops-business-analyst-m-f-d-at-allcloud-3278971250?refId=eqnRX8ydyPk0y8rL1GFM8w%3D%3D&trackingId=sL%2B5q0JCrmGFNp2rI2RGog%3D%3D&position=23&pageNum=2&trk=public_jobs_jserp-result_search-card',\n",
       " 'https://de.linkedin.com/jobs/view/business-analyst-customer-insights-f-m-x-at-seven-senders-3350722934?refId=eqnRX8ydyPk0y8rL1GFM8w%3D%3D&trackingId=CEi%2FjIpNsCX%2BWDQNTBcbCg%3D%3D&position=24&pageNum=2&trk=public_jobs_jserp-result_search-card',\n",
       " 'https://de.linkedin.com/jobs/view/business-analyst-m-w-d-business-intelligence-100%25-remote-at-publicplan-gmbh-3338227790?refId=eqnRX8ydyPk0y8rL1GFM8w%3D%3D&trackingId=aDlGTggTd1hYC8XPzl7vbA%3D%3D&position=25&pageNum=2&trk=public_jobs_jserp-result_search-card',\n",
       " 'https://de.linkedin.com/jobs/view/senior-marketing-analyst-f-m-d-at-heyjobs-3346433715?refId=PK8Z2%2FLGOQdJ%2FaUm1IZ5Hw%3D%3D&trackingId=m%2FpGulDL9N%2FRnl15aD41Sg%3D%3D&position=1&pageNum=3&trk=public_jobs_jserp-result_search-card',\n",
       " 'https://de.linkedin.com/jobs/view/data-analyst-statistics-python-bi-bangkok-based-relocation-provided-at-agoda-3342339347?refId=PK8Z2%2FLGOQdJ%2FaUm1IZ5Hw%3D%3D&trackingId=xEdbbTwPeOMV9RebJ%2B8Alw%3D%3D&position=2&pageNum=3&trk=public_jobs_jserp-result_search-card',\n",
       " 'https://de.linkedin.com/jobs/view/business-analyst-daten-prozessmanager-im-kredit-risikomanagement-at-adac-service-gmbh-3350224707?refId=PK8Z2%2FLGOQdJ%2FaUm1IZ5Hw%3D%3D&trackingId=ZeVt%2B9YlmueBiAvyLRNjAQ%3D%3D&position=3&pageNum=3&trk=public_jobs_jserp-result_search-card',\n",
       " 'https://de.linkedin.com/jobs/view/marketing-analyst-d-f-m-at-taxfix-3342571491?refId=PK8Z2%2FLGOQdJ%2FaUm1IZ5Hw%3D%3D&trackingId=D88AM1V%2FIGihlTj7XJnBCw%3D%3D&position=4&pageNum=3&trk=public_jobs_jserp-result_search-card',\n",
       " 'https://de.linkedin.com/jobs/view/trainee-business-analyst-m-w-d-at-init-ag-f%C3%BCr-digitale-kommunikation-3328061144?refId=PK8Z2%2FLGOQdJ%2FaUm1IZ5Hw%3D%3D&trackingId=4ap58rE7kHbMju29i7i3ew%3D%3D&position=5&pageNum=3&trk=public_jobs_jserp-result_search-card',\n",
       " 'https://de.linkedin.com/jobs/view/business-analyst-all-genders-at-zalando-3319590283?refId=PK8Z2%2FLGOQdJ%2FaUm1IZ5Hw%3D%3D&trackingId=XSvzSukVbzPfS87o2qg0GQ%3D%3D&position=6&pageNum=3&trk=public_jobs_jserp-result_search-card',\n",
       " 'https://de.linkedin.com/jobs/view/business-analyst-data-analytics-all-genders-at-adesso-se-3335998287?refId=PK8Z2%2FLGOQdJ%2FaUm1IZ5Hw%3D%3D&trackingId=wu5DGoi0MPafRIHhPiIxiw%3D%3D&position=7&pageNum=3&trk=public_jobs_jserp-result_search-card',\n",
       " 'https://de.linkedin.com/jobs/view/business-analyst-microsoft-on-premise-m-w-d-at-helios-kliniken-gmbh-3311781585?refId=PK8Z2%2FLGOQdJ%2FaUm1IZ5Hw%3D%3D&trackingId=wrfYcRcK5DsZtUl0flHVyg%3D%3D&position=8&pageNum=3&trk=public_jobs_jserp-result_search-card',\n",
       " 'https://de.linkedin.com/jobs/view/business-analyst-f%C3%BCr-die-digitalisierung-automatisierung-m-w-d-at-sks-unternehmensberatung-gmbh-co-kg-3353255942?refId=PK8Z2%2FLGOQdJ%2FaUm1IZ5Hw%3D%3D&trackingId=q3n4OUJHEa2ozA4eROTxJg%3D%3D&position=9&pageNum=3&trk=public_jobs_jserp-result_search-card',\n",
       " 'https://de.linkedin.com/jobs/view/business-analyst-iot-pricing-m-f-d-at-emnify-3325192096?refId=PK8Z2%2FLGOQdJ%2FaUm1IZ5Hw%3D%3D&trackingId=aZF1lZdAJJ0VFq7Ey6Q5lA%3D%3D&position=10&pageNum=3&trk=public_jobs_jserp-result_search-card',\n",
       " 'https://de.linkedin.com/jobs/view/business-analyst-m-w-d-im-bereich-organisations-und-produktivit%C3%A4tsmanagement-abteilung-datendienste-at-berliner-sparkasse-3344383981?refId=PK8Z2%2FLGOQdJ%2FaUm1IZ5Hw%3D%3D&trackingId=FAvHK0in9xZcrnzJdrvVqA%3D%3D&position=11&pageNum=3&trk=public_jobs_jserp-result_search-card',\n",
       " 'https://de.linkedin.com/jobs/view/business-analyst-at-springer-nature-group-3312741995?refId=PK8Z2%2FLGOQdJ%2FaUm1IZ5Hw%3D%3D&trackingId=jLZ75M09BWDSZbbgrZu6DQ%3D%3D&position=12&pageNum=3&trk=public_jobs_jserp-result_search-card',\n",
       " 'https://de.linkedin.com/jobs/view/social-media-analyst-m-w-d-at-jobs-via-efinancialcareers-3336980708?refId=PK8Z2%2FLGOQdJ%2FaUm1IZ5Hw%3D%3D&trackingId=ubzb0eCukwhMcpUlfFi4HQ%3D%3D&position=13&pageNum=3&trk=public_jobs_jserp-result_search-card',\n",
       " 'https://de.linkedin.com/jobs/view/business-analyst-d-w-m-at-immoscout24-3321016244?refId=PK8Z2%2FLGOQdJ%2FaUm1IZ5Hw%3D%3D&trackingId=IlY3dCYqyBvLoz3rUke%2FLw%3D%3D&position=14&pageNum=3&trk=public_jobs_jserp-result_search-card',\n",
       " 'https://de.linkedin.com/jobs/view/sales-marketing-operations-analyst-m-f-d-remote-possible-at-uberall-3297648055?refId=PK8Z2%2FLGOQdJ%2FaUm1IZ5Hw%3D%3D&trackingId=flsYSTiGf%2Fob%2FtVqdD6jkQ%3D%3D&position=15&pageNum=3&trk=public_jobs_jserp-result_search-card',\n",
       " 'https://de.linkedin.com/jobs/view/business-analyst-consultant-digital-transformation-servicenow-m-w-d-at-deloitte-3073143523?refId=PK8Z2%2FLGOQdJ%2FaUm1IZ5Hw%3D%3D&trackingId=%2Buqx87HAAZ4bg7fNaIDTNw%3D%3D&position=16&pageNum=3&trk=public_jobs_jserp-result_search-card',\n",
       " 'https://de.linkedin.com/jobs/view/business-analyst-at-parity-technologies-3321016340?refId=PK8Z2%2FLGOQdJ%2FaUm1IZ5Hw%3D%3D&trackingId=orHHiVI7BhZW%2BezdjdsRnQ%3D%3D&position=17&pageNum=3&trk=public_jobs_jserp-result_search-card',\n",
       " 'https://de.linkedin.com/jobs/view/business-analyst-stammdaten-w-m-d-at-deutsche-bahn-3309526971?refId=PK8Z2%2FLGOQdJ%2FaUm1IZ5Hw%3D%3D&trackingId=X%2BodKpThwAHofPqDnQXx0Q%3D%3D&position=18&pageNum=3&trk=public_jobs_jserp-result_search-card',\n",
       " 'https://de.linkedin.com/jobs/view/business-analyst-at-mckinsey-company-3286641640?refId=PK8Z2%2FLGOQdJ%2FaUm1IZ5Hw%3D%3D&trackingId=smCmTQ5FNmIMYBpXk8JooQ%3D%3D&position=19&pageNum=3&trk=public_jobs_jserp-result_search-card',\n",
       " 'https://de.linkedin.com/jobs/view/loyalty-business-analyst-at-defacto-gmbh-3317326320?refId=PK8Z2%2FLGOQdJ%2FaUm1IZ5Hw%3D%3D&trackingId=n3EHfeDaFPiFv%2FeMgEk2Vg%3D%3D&position=20&pageNum=3&trk=public_jobs_jserp-result_search-card',\n",
       " 'https://de.linkedin.com/jobs/view/business-analyst-d-w-m-at-immoscout24-3320903271?refId=PK8Z2%2FLGOQdJ%2FaUm1IZ5Hw%3D%3D&trackingId=nrq6UipEla0keoZRynUvSw%3D%3D&position=21&pageNum=3&trk=public_jobs_jserp-result_search-card',\n",
       " 'https://de.linkedin.com/jobs/view/business-analyst-daten-prozessmanager-im-kredit-risikomanagement-m-w-d-at-dkb-deutsche-kreditbank-ag-3286558354?refId=PK8Z2%2FLGOQdJ%2FaUm1IZ5Hw%3D%3D&trackingId=5CMg4NQ1%2BjrLAis0%2BeP0hg%3D%3D&position=22&pageNum=3&trk=public_jobs_jserp-result_search-card',\n",
       " 'https://de.linkedin.com/jobs/view/analyst-consultant-thought-leadership-and-digital-marketing-analytics-m-w-d-in-berlin-at-bearingpoint-2963467934?refId=PK8Z2%2FLGOQdJ%2FaUm1IZ5Hw%3D%3D&trackingId=je4bkYf2Q8%2FeKZctzfz3Yw%3D%3D&position=23&pageNum=3&trk=public_jobs_jserp-result_search-card',\n",
       " 'https://de.linkedin.com/jobs/view/business-analyst-stammdaten-w-m-d-at-deutsche-bahn-3348456483?refId=PK8Z2%2FLGOQdJ%2FaUm1IZ5Hw%3D%3D&trackingId=y5arET2WKqAnRDMp%2Fj4HBQ%3D%3D&position=24&pageNum=3&trk=public_jobs_jserp-result_search-card',\n",
       " 'https://de.linkedin.com/jobs/view/business-analyst-m-w-d-100%25-remote-at-publicplan-gmbh-3348600036?refId=PK8Z2%2FLGOQdJ%2FaUm1IZ5Hw%3D%3D&trackingId=meMH8C6IvsAlUEtBBnAhUg%3D%3D&position=25&pageNum=3&trk=public_jobs_jserp-result_search-card',\n",
       " 'https://de.linkedin.com/jobs/view/senior-lead-expert-marketing-analyst-m-f-d-at-flaconi-3312879895?refId=NmWs%2B5%2FTn4lJdZWoh09aFQ%3D%3D&trackingId=HvRHqkSzPtaLinrdnZPcQQ%3D%3D&position=1&pageNum=4&trk=public_jobs_jserp-result_search-card',\n",
       " 'https://de.linkedin.com/jobs/view/marketing-analyst-m-w-d-at-jobs-via-efinancialcareers-3336982665?refId=NmWs%2B5%2FTn4lJdZWoh09aFQ%3D%3D&trackingId=tsp0v6gE4NjsipEe71Ti%2BQ%3D%3D&position=2&pageNum=4&trk=public_jobs_jserp-result_search-card',\n",
       " 'https://de.linkedin.com/jobs/view/senior-growth-marketing-analyst-m-w-x-at-grover-3319227516?refId=NmWs%2B5%2FTn4lJdZWoh09aFQ%3D%3D&trackingId=bXn%2FULk2RqE%2BLNtiE%2FzO%2FA%3D%3D&position=3&pageNum=4&trk=public_jobs_jserp-result_search-card',\n",
       " 'https://de.linkedin.com/jobs/view/business-analyst-m-w-d-legal-process-technology-at-kpmg-law-3328076999?refId=NmWs%2B5%2FTn4lJdZWoh09aFQ%3D%3D&trackingId=rkfSgzVB100CpBMaoAX4aw%3D%3D&position=4&pageNum=4&trk=public_jobs_jserp-result_search-card',\n",
       " 'https://de.linkedin.com/jobs/view/duales-studium-b-a-international-service-management-m-w-d-berlin-at-tesla-3331051406?refId=NmWs%2B5%2FTn4lJdZWoh09aFQ%3D%3D&trackingId=Cfp9yCJTxIh9Fffl%2BX%2FyrA%3D%3D&position=5&pageNum=4&trk=public_jobs_jserp-result_search-card',\n",
       " 'https://de.linkedin.com/jobs/view/analyst-senior-analyst-pay-per-click-marketing-bangkok-based-relocation-provided-at-agoda-3342339601?refId=NmWs%2B5%2FTn4lJdZWoh09aFQ%3D%3D&trackingId=jltoZw6Ara2EL6sQ4FjE%2Fg%3D%3D&position=6&pageNum=4&trk=public_jobs_jserp-result_search-card',\n",
       " 'https://de.linkedin.com/jobs/view/mid-senior-marketing-analyst-at-dance-3320624617?refId=NmWs%2B5%2FTn4lJdZWoh09aFQ%3D%3D&trackingId=QcAAzBrWBJ6hKAxNDpzY7w%3D%3D&position=7&pageNum=4&trk=public_jobs_jserp-result_search-card',\n",
       " 'https://de.linkedin.com/jobs/view/business-analyst-m-f-d-at-clevershuttle-3333313044?refId=NmWs%2B5%2FTn4lJdZWoh09aFQ%3D%3D&trackingId=8Maom8Y3VzRtPE9tAjSrrw%3D%3D&position=8&pageNum=4&trk=public_jobs_jserp-result_search-card',\n",
       " 'https://de.linkedin.com/jobs/view/consultant-ki-und-digitalisierung-m-w-d-at-t-systems-mms-3291859318?refId=NmWs%2B5%2FTn4lJdZWoh09aFQ%3D%3D&trackingId=z%2FWz3hN3asL9Wm8D%2F5WUkg%3D%3D&position=9&pageNum=4&trk=public_jobs_jserp-result_search-card',\n",
       " 'https://de.linkedin.com/jobs/view/business-analyst-fokus-conversion-rate-optimierung-m-w-d-at-tui-2904311537?refId=NmWs%2B5%2FTn4lJdZWoh09aFQ%3D%3D&trackingId=DmP7i61wJYPCV3NJUyJcbg%3D%3D&position=10&pageNum=4&trk=public_jobs_jserp-result_search-card',\n",
       " 'https://de.linkedin.com/jobs/view/business-analyst-stammdaten-w-m-d-at-deutsche-bahn-international-3353255353?refId=NmWs%2B5%2FTn4lJdZWoh09aFQ%3D%3D&trackingId=d5VYHVk2KqywMHdZJNPR9w%3D%3D&position=11&pageNum=4&trk=public_jobs_jserp-result_search-card',\n",
       " 'https://de.linkedin.com/jobs/view/it-architekt-business-data-analyst-w-m-d-at-zeb-consulting-3296289258?refId=NmWs%2B5%2FTn4lJdZWoh09aFQ%3D%3D&trackingId=ayJtJQYpTCJNrQJsByZbsw%3D%3D&position=12&pageNum=4&trk=public_jobs_jserp-result_search-card',\n",
       " 'https://de.linkedin.com/jobs/view/business-analyst-digitaler-kreditprozess-at-adac-service-gmbh-3350222908?refId=NmWs%2B5%2FTn4lJdZWoh09aFQ%3D%3D&trackingId=B%2BeIzkvGaaMIotnNjnIX%2Fw%3D%3D&position=13&pageNum=4&trk=public_jobs_jserp-result_search-card',\n",
       " 'https://de.linkedin.com/jobs/view/analyst-or-senior-analyst-soap-bangkok-based-role-relocation-provided-at-agoda-3342339460?refId=NmWs%2B5%2FTn4lJdZWoh09aFQ%3D%3D&trackingId=NGzfZZY6%2FiK7HP4p%2BsBuFA%3D%3D&position=14&pageNum=4&trk=public_jobs_jserp-result_search-card',\n",
       " 'https://de.linkedin.com/jobs/view/duales-studium-b-a-bwl-mit-schwerpunkt-digital-innovation-in-berlin-2023-at-vodafone-3267719362?refId=NmWs%2B5%2FTn4lJdZWoh09aFQ%3D%3D&trackingId=dFZCGi%2FzvQblDv2TG6Q%2Bzg%3D%3D&position=15&pageNum=4&trk=public_jobs_jserp-result_search-card',\n",
       " 'https://de.linkedin.com/jobs/view/business-analyst-in-at-investitionsbank-des-landes-brandenburg-ilb-3323446213?refId=NmWs%2B5%2FTn4lJdZWoh09aFQ%3D%3D&trackingId=HsCnejuiILO2nYucmPANYA%3D%3D&position=16&pageNum=4&trk=public_jobs_jserp-result_search-card',\n",
       " 'https://de.linkedin.com/jobs/view/business-analyst-digitaler-kreditprozess-at-adac-service-gmbh-3350226158?refId=NmWs%2B5%2FTn4lJdZWoh09aFQ%3D%3D&trackingId=rzsM%2B2F0%2FhGENDhBk30ecg%3D%3D&position=17&pageNum=4&trk=public_jobs_jserp-result_search-card',\n",
       " 'https://de.linkedin.com/jobs/view/strategy-transactions-emeia-fs-business-strategic-analyst-f-m-d-at-ey-3236841022?refId=NmWs%2B5%2FTn4lJdZWoh09aFQ%3D%3D&trackingId=N3txzfq8TH78aukh3Nh2fg%3D%3D&position=18&pageNum=4&trk=public_jobs_jserp-result_search-card',\n",
       " 'https://de.linkedin.com/jobs/view/growth-analyst-at-lion-studios-3302669321?refId=NmWs%2B5%2FTn4lJdZWoh09aFQ%3D%3D&trackingId=jiSgoB%2F398wLrQuLcYO8XA%3D%3D&position=19&pageNum=4&trk=public_jobs_jserp-result_search-card',\n",
       " 'https://de.linkedin.com/jobs/view/business-analyst-w-m-d-at-bridgingit-gmbh-3318424472?refId=NmWs%2B5%2FTn4lJdZWoh09aFQ%3D%3D&trackingId=ydVXXyJSZroMlIhuoiQJtA%3D%3D&position=20&pageNum=4&trk=public_jobs_jserp-result_search-card',\n",
       " 'https://de.linkedin.com/jobs/view/business-analyst-m-w-d-at-positive-thinking-company-3331735132?refId=NmWs%2B5%2FTn4lJdZWoh09aFQ%3D%3D&trackingId=vfTqvzRyzphFZOLhXozb%2BA%3D%3D&position=21&pageNum=4&trk=public_jobs_jserp-result_search-card',\n",
       " 'https://de.linkedin.com/jobs/view/business-analyst-consultant-cloud-transformation-m-w-d-at-deloitte-2839229239?refId=NmWs%2B5%2FTn4lJdZWoh09aFQ%3D%3D&trackingId=xRlyQ%2FeVNC%2Fx5cOEXvQGAw%3D%3D&position=22&pageNum=4&trk=public_jobs_jserp-result_search-card',\n",
       " 'https://de.linkedin.com/jobs/view/finnish-speaking-social-media-analyst-m-f-x-at-grafton-recruitment-3322254981?refId=NmWs%2B5%2FTn4lJdZWoh09aFQ%3D%3D&trackingId=3gmfidSwa5P5KzQGfefpHA%3D%3D&position=23&pageNum=4&trk=public_jobs_jserp-result_search-card',\n",
       " 'https://de.linkedin.com/jobs/view/business-analyst-f%C3%BCr-die-digitalisierung-im-baumanagement-w-m-d-at-deutsche-bahn-3347856516?refId=NmWs%2B5%2FTn4lJdZWoh09aFQ%3D%3D&trackingId=nTs13BzjiXgbPVTfQ5d5ng%3D%3D&position=24&pageNum=4&trk=public_jobs_jserp-result_search-card',\n",
       " 'https://de.linkedin.com/jobs/view/market-researcher-at-autodoc-3182268517?refId=NmWs%2B5%2FTn4lJdZWoh09aFQ%3D%3D&trackingId=bDG%2FShBvVxqR9Kj66nuT%2FA%3D%3D&position=25&pageNum=4&trk=public_jobs_jserp-result_search-card',\n",
       " 'https://de.linkedin.com/jobs/view/business-analyst-d-f-m-at-ebay-kleinanzeigen-3339973575?refId=%2BrC9Fhpaqkz%2FzY1TEDbHWA%3D%3D&trackingId=jsn7rmPZxiNCi7K4WSgLbA%3D%3D&position=1&pageNum=5&trk=public_jobs_jserp-result_search-card',\n",
       " 'https://de.linkedin.com/jobs/view/business-finance-analyst-at-it-works-recruitment-germany-3334744889?refId=%2BrC9Fhpaqkz%2FzY1TEDbHWA%3D%3D&trackingId=PXKHJj2FfhkNxyqVHPy9uA%3D%3D&position=2&pageNum=5&trk=public_jobs_jserp-result_search-card',\n",
       " 'https://de.linkedin.com/jobs/view/business-analyst-m-w-d-at-positive-thinking-company-3330731591?refId=%2BrC9Fhpaqkz%2FzY1TEDbHWA%3D%3D&trackingId=UWY1dbwtRuMpfjuyP%2Bl6Mw%3D%3D&position=3&pageNum=5&trk=public_jobs_jserp-result_search-card',\n",
       " 'https://de.linkedin.com/jobs/view/brand-media-analyst-or-senior-analyst-marketing-bangkok-based-relocation-provided-at-agoda-3342339319?refId=%2BrC9Fhpaqkz%2FzY1TEDbHWA%3D%3D&trackingId=D0ZEP3Dnhl%2B%2BnwbzSIKRKw%3D%3D&position=4&pageNum=5&trk=public_jobs_jserp-result_search-card',\n",
       " 'https://de.linkedin.com/jobs/view/banking-business-analyst-f-m-d-at-avaloq-3316698394?refId=%2BrC9Fhpaqkz%2FzY1TEDbHWA%3D%3D&trackingId=lpU5tcrPOgKAdY0EhNtPUQ%3D%3D&position=5&pageNum=5&trk=public_jobs_jserp-result_search-card',\n",
       " 'https://de.linkedin.com/jobs/view/business-analyst-consultant-strategieberatung-monitor-deloitte-m-w-d-at-deloitte-2839219896?refId=%2BrC9Fhpaqkz%2FzY1TEDbHWA%3D%3D&trackingId=xuXzigk%2FnLCVNH%2FG5TqnnA%3D%3D&position=6&pageNum=5&trk=public_jobs_jserp-result_search-card',\n",
       " 'https://de.linkedin.com/jobs/view/analyst-in-traineeprogramm-business-development-m-w-d-at-liberta-partners-3337012527?refId=%2BrC9Fhpaqkz%2FzY1TEDbHWA%3D%3D&trackingId=CO6xV1B7pCuh7rNfnoiQ%2Bg%3D%3D&position=7&pageNum=5&trk=public_jobs_jserp-result_search-card',\n",
       " 'https://de.linkedin.com/jobs/view/business-analyst-at-odoo-3334584286?refId=%2BrC9Fhpaqkz%2FzY1TEDbHWA%3D%3D&trackingId=YHj0KclGaoI%2BNIFn26OgNg%3D%3D&position=8&pageNum=5&trk=public_jobs_jserp-result_search-card',\n",
       " 'https://de.linkedin.com/jobs/view/business-analyst-d-w-m-at-scout24-gruppe-3318076550?refId=%2BrC9Fhpaqkz%2FzY1TEDbHWA%3D%3D&trackingId=0Qvn7m5Sf12pbywQYKywWA%3D%3D&position=9&pageNum=5&trk=public_jobs_jserp-result_search-card',\n",
       " 'https://de.linkedin.com/jobs/view/business-analyst-m-w-d-at-positive-thinking-company-3329389956?refId=%2BrC9Fhpaqkz%2FzY1TEDbHWA%3D%3D&trackingId=ksWZbzH41LcFOlIwuZ4lxg%3D%3D&position=10&pageNum=5&trk=public_jobs_jserp-result_search-card',\n",
       " 'https://de.linkedin.com/jobs/view/business-analyst-at-telus-international-ai-data-solutions-3328202286?refId=%2BrC9Fhpaqkz%2FzY1TEDbHWA%3D%3D&trackingId=qIBBUEYSVsEY9B9rlSFPmQ%3D%3D&position=11&pageNum=5&trk=public_jobs_jserp-result_search-card',\n",
       " 'https://de.linkedin.com/jobs/view/business-analyst-im-anforderungsmanagement-m-w-d-at-conwiss-consulting-gmbh-3353259519?refId=%2BrC9Fhpaqkz%2FzY1TEDbHWA%3D%3D&trackingId=KgZnR5a3QX5JdL94ZzMVMg%3D%3D&position=12&pageNum=5&trk=public_jobs_jserp-result_search-card',\n",
       " 'https://de.linkedin.com/jobs/view/growth-analyst-m-w-d-at-worldline-3341820365?refId=%2BrC9Fhpaqkz%2FzY1TEDbHWA%3D%3D&trackingId=lMPNV8UoVJWv4l2E1jrhrA%3D%3D&position=13&pageNum=5&trk=public_jobs_jserp-result_search-card',\n",
       " 'https://de.linkedin.com/jobs/view/business-analyst-m-f-d-commercial-at-ratepay-3338249387?refId=%2BrC9Fhpaqkz%2FzY1TEDbHWA%3D%3D&trackingId=zSc4o0alUtJ1mm7V1QV2aA%3D%3D&position=14&pageNum=5&trk=public_jobs_jserp-result_search-card',\n",
       " 'https://de.linkedin.com/jobs/view/analyst-or-senior-analyst-customer-marketing-bangkok-based-relocation-provided-at-agoda-3342340275?refId=%2BrC9Fhpaqkz%2FzY1TEDbHWA%3D%3D&trackingId=HZe2hqUeaWvTUK7tnA262Q%3D%3D&position=15&pageNum=5&trk=public_jobs_jserp-result_search-card',\n",
       " 'https://de.linkedin.com/jobs/view/business-analyst-sprintstarter-programm-w-m-d-at-deutsche-bahn-international-3324290176?refId=%2BrC9Fhpaqkz%2FzY1TEDbHWA%3D%3D&trackingId=hHONVscxPzXOZrGlS6pHlQ%3D%3D&position=16&pageNum=5&trk=public_jobs_jserp-result_search-card',\n",
       " 'https://de.linkedin.com/jobs/view/working-student-trade-marketing-analyst-m-f-d-at-flaconi-3312665690?refId=%2BrC9Fhpaqkz%2FzY1TEDbHWA%3D%3D&trackingId=avraHmKnznIqGz7ZDW3jfQ%3D%3D&position=17&pageNum=5&trk=public_jobs_jserp-result_search-card',\n",
       " 'https://de.linkedin.com/jobs/view/business-analyst-sprintstarter-programm-w-m-d-at-deutsche-bahn-3311483924?refId=%2BrC9Fhpaqkz%2FzY1TEDbHWA%3D%3D&trackingId=EUkudm48DuB%2Bv4ZWyxMwog%3D%3D&position=18&pageNum=5&trk=public_jobs_jserp-result_search-card',\n",
       " 'https://de.linkedin.com/jobs/view/hungarian-speaking-social-media-analyst-m-f-x-at-grafton-recruitment-3274585614?refId=%2BrC9Fhpaqkz%2FzY1TEDbHWA%3D%3D&trackingId=PDMtqeI29Fi013pDWYOduw%3D%3D&position=19&pageNum=5&trk=public_jobs_jserp-result_search-card',\n",
       " 'https://de.linkedin.com/jobs/view/business-analyst-w-m-d-at-coduct-gmbh-3335593656?refId=%2BrC9Fhpaqkz%2FzY1TEDbHWA%3D%3D&trackingId=pWdxBvG6aZ61pTxqsTpoVA%3D%3D&position=20&pageNum=5&trk=public_jobs_jserp-result_search-card',\n",
       " 'https://de.linkedin.com/jobs/view/business-analyst-requirements-engineer-w-m-d-business-analysis-ingenieur-at-brockhaus-ag-3311008504?refId=%2BrC9Fhpaqkz%2FzY1TEDbHWA%3D%3D&trackingId=xM4t8hGN9yNsVwMF6%2Bt5dg%3D%3D&position=21&pageNum=5&trk=public_jobs_jserp-result_search-card',\n",
       " 'https://de.linkedin.com/jobs/view/agile-business-analyst-m-w-d-at-init-ag-f%C3%BCr-digitale-kommunikation-3344092076?refId=%2BrC9Fhpaqkz%2FzY1TEDbHWA%3D%3D&trackingId=mRzTn%2BR%2B4TxqqGkY%2FBU%2FxQ%3D%3D&position=22&pageNum=5&trk=public_jobs_jserp-result_search-card',\n",
       " 'https://de.linkedin.com/jobs/view/business-analyst-m-w-d-at-init-ag-f%C3%BCr-digitale-kommunikation-3341844076?refId=%2BrC9Fhpaqkz%2FzY1TEDbHWA%3D%3D&trackingId=cBUzgQRDmVqcZjSn47FTPQ%3D%3D&position=23&pageNum=5&trk=public_jobs_jserp-result_search-card',\n",
       " 'https://de.linkedin.com/jobs/view/praktikum-w-m-d-business-research-analysis-at-kpmg-deutschland-3326869310?refId=%2BrC9Fhpaqkz%2FzY1TEDbHWA%3D%3D&trackingId=5%2FiK5nBW8mVaf%2FDjRUvAOg%3D%3D&position=24&pageNum=5&trk=public_jobs_jserp-result_search-card',\n",
       " 'https://de.linkedin.com/jobs/view/senior-data-analyst-partner-development-%E2%80%93-statistics-ml-bi-bangkok-based-relocation-provided-at-agoda-3342553889?refId=%2BrC9Fhpaqkz%2FzY1TEDbHWA%3D%3D&trackingId=vuwMvJauWLFa01nG2vrU3A%3D%3D&position=25&pageNum=5&trk=public_jobs_jserp-result_search-card',\n",
       " 'https://de.linkedin.com/jobs/view/freelance-business-analyst-m-w-d-at-computer-futures-3282166088?refId=0w%2FbMMHRxxRPSk0T9YEkPw%3D%3D&trackingId=PNBHKT%2F95%2FaIJl7NhSQ86Q%3D%3D&position=1&pageNum=6&trk=public_jobs_jserp-result_search-card',\n",
       " 'https://de.linkedin.com/jobs/view/business-analyst-m-w-d-at-init-ag-f%C3%BCr-digitale-kommunikation-3278913642?refId=0w%2FbMMHRxxRPSk0T9YEkPw%3D%3D&trackingId=iUPWGt2tLIS91G58eGqFYw%3D%3D&position=2&pageNum=6&trk=public_jobs_jserp-result_search-card',\n",
       " 'https://de.linkedin.com/jobs/view/business-analyst-berlin-cologne-remote-at-eyeo-3337776854?refId=0w%2FbMMHRxxRPSk0T9YEkPw%3D%3D&trackingId=TA%2FjW9%2BS7Kx9QswpaiZxJg%3D%3D&position=3&pageNum=6&trk=public_jobs_jserp-result_search-card',\n",
       " 'https://de.linkedin.com/jobs/view/business-analyst-betrugsmanagementsystem-at-adac-service-gmbh-3350218295?refId=0w%2FbMMHRxxRPSk0T9YEkPw%3D%3D&trackingId=sDbn5%2B6ngcN7rpRhGwd2DA%3D%3D&position=4&pageNum=6&trk=public_jobs_jserp-result_search-card',\n",
       " 'https://de.linkedin.com/jobs/view/duales-studium-m-w-d-b-a-in-der-bwl-immobilienwirtschaft-at-jll-3345757334?refId=0w%2FbMMHRxxRPSk0T9YEkPw%3D%3D&trackingId=AkXa%2FcitijwZlWYwhdEaYQ%3D%3D&position=5&pageNum=6&trk=public_jobs_jserp-result_search-card',\n",
       " 'https://de.linkedin.com/jobs/view/dual-b-a-medien-und-eventmanagement-m-w-d-at-hmkw-hochschule-f%C3%BCr-medien-kommunikation-und-wirtschaft-3340510246?refId=0w%2FbMMHRxxRPSk0T9YEkPw%3D%3D&trackingId=XHciyddI2koSrE9NpuAVvg%3D%3D&position=6&pageNum=6&trk=public_jobs_jserp-result_search-card',\n",
       " 'https://de.linkedin.com/jobs/view/business-analyst-consultant-m-w-d-enterprise-resource-planning-erp-in-berlin-at-deloitte-3277747614?refId=0w%2FbMMHRxxRPSk0T9YEkPw%3D%3D&trackingId=HgXqPo3XMfBP7iYpQ9VCHg%3D%3D&position=7&pageNum=6&trk=public_jobs_jserp-result_search-card',\n",
       " 'https://de.linkedin.com/jobs/view/business-analyst-m-w-d-at-gulp-%E2%80%93-experts-united-3350426022?refId=0w%2FbMMHRxxRPSk0T9YEkPw%3D%3D&trackingId=tAucHtrATCyfI94O2TQpaA%3D%3D&position=8&pageNum=6&trk=public_jobs_jserp-result_search-card',\n",
       " 'https://de.linkedin.com/jobs/view/business-analyst-f%C3%BCr-den-verbundprozess-instandhaltung-fahrzeuge-w-m-d-at-deutsche-bahn-3259683136?refId=0w%2FbMMHRxxRPSk0T9YEkPw%3D%3D&trackingId=8r7UJPBKLuy4nYFTn5EpNg%3D%3D&position=9&pageNum=6&trk=public_jobs_jserp-result_search-card',\n",
       " 'https://de.linkedin.com/jobs/view/business-analysts-associate-consultants-life-sciences-pharma-at-lsc-lifesciences-consultants-3352594701?refId=0w%2FbMMHRxxRPSk0T9YEkPw%3D%3D&trackingId=qqwoDDVKjoBDxVrtjpjWLQ%3D%3D&position=10&pageNum=6&trk=public_jobs_jserp-result_search-card',\n",
       " 'https://de.linkedin.com/jobs/view/business-analyst-m-w-d-%E2%80%93-logistik-scm-at-4flow-3138416968?refId=0w%2FbMMHRxxRPSk0T9YEkPw%3D%3D&trackingId=GDa7y8VAU9kKqZWIXo0xOw%3D%3D&position=11&pageNum=6&trk=public_jobs_jserp-result_search-card',\n",
       " 'https://de.linkedin.com/jobs/view/business-analyst-health-care-m-f-x-at-cure-3314609171?refId=0w%2FbMMHRxxRPSk0T9YEkPw%3D%3D&trackingId=d%2FHpDWLv4iQcQkDbxQikig%3D%3D&position=12&pageNum=6&trk=public_jobs_jserp-result_search-card',\n",
       " 'https://de.linkedin.com/jobs/view/duales-studium-b-a-bwl-mit-schwerpunkt-business-sales-in-berlin-2023-at-vodafone-3315659391?refId=0w%2FbMMHRxxRPSk0T9YEkPw%3D%3D&trackingId=DoRzsZI8JK2srImCdzJw1Q%3D%3D&position=13&pageNum=6&trk=public_jobs_jserp-result_search-card',\n",
       " 'https://de.linkedin.com/jobs/view/duales-studium-m-w-d-b-a-in-der-bwl-immobilienbewertung-at-jll-3345761033?refId=0w%2FbMMHRxxRPSk0T9YEkPw%3D%3D&trackingId=qP90mCJO6ZW9RaS02DUbCQ%3D%3D&position=14&pageNum=6&trk=public_jobs_jserp-result_search-card',\n",
       " 'https://de.linkedin.com/jobs/view/business-analyst-m-f-d-at-tui-2945967853?refId=0w%2FbMMHRxxRPSk0T9YEkPw%3D%3D&trackingId=lwi4FZvjnEe7IKueyN3edA%3D%3D&position=15&pageNum=6&trk=public_jobs_jserp-result_search-card',\n",
       " 'https://de.linkedin.com/jobs/view/business-analyst-betrugsmanagementsystem-m-w-d-at-dkb-deutsche-kreditbank-ag-3249027577?refId=0w%2FbMMHRxxRPSk0T9YEkPw%3D%3D&trackingId=YYEZsz7ScXiz%2BEbjJBR70g%3D%3D&position=16&pageNum=6&trk=public_jobs_jserp-result_search-card',\n",
       " 'https://de.linkedin.com/jobs/view/business-analyst-associate-with-a-focus-on-strategy-or-m-a-pmi-d-f-m-at-ottobock-3312907619?refId=0w%2FbMMHRxxRPSk0T9YEkPw%3D%3D&trackingId=6kDLTSna%2B6w4Db40SkSUkg%3D%3D&position=17&pageNum=6&trk=public_jobs_jserp-result_search-card',\n",
       " 'https://de.linkedin.com/jobs/view/pricing-and-proposition-analyst-at-pipedrive-3344867839?refId=0w%2FbMMHRxxRPSk0T9YEkPw%3D%3D&trackingId=AwtmYejv0OmIknmZvZlb9Q%3D%3D&position=18&pageNum=6&trk=public_jobs_jserp-result_search-card',\n",
       " 'https://de.linkedin.com/jobs/view/business-analyst-strategy-digital-transformation-energiewirtschaft-m-w-d-in-berlin-at-bearingpoint-2963471348?refId=0w%2FbMMHRxxRPSk0T9YEkPw%3D%3D&trackingId=IwQjKZ4W3kOlOIFLHq0NBA%3D%3D&position=19&pageNum=6&trk=public_jobs_jserp-result_search-card',\n",
       " 'https://de.linkedin.com/jobs/view/we-are-hiring-media-search-analyst-german-de-at-telus-international-ai-data-solutions-3353924039?refId=0w%2FbMMHRxxRPSk0T9YEkPw%3D%3D&trackingId=%2B1%2BzrvM1w%2FnynuUY8L8rxQ%3D%3D&position=20&pageNum=6&trk=public_jobs_jserp-result_search-card',\n",
       " 'https://de.linkedin.com/jobs/view/business-analyst-datenmigration-all-genders-f%C3%BCr-die-adesso-insurance-solutions-gmbh-at-adesso-insurance-solutions-gmbh-3278939445?refId=0w%2FbMMHRxxRPSk0T9YEkPw%3D%3D&trackingId=%2B43Uu04%2BqpaTMuniuJ1ctw%3D%3D&position=21&pageNum=6&trk=public_jobs_jserp-result_search-card',\n",
       " 'https://de.linkedin.com/jobs/view/business-analyst-m-w-d-human-capital-organization-transformation-change-fokus-training-at-deloitte-3337782622?refId=0w%2FbMMHRxxRPSk0T9YEkPw%3D%3D&trackingId=ChhbvV%2F15lryc3n8trTT7g%3D%3D&position=22&pageNum=6&trk=public_jobs_jserp-result_search-card',\n",
       " 'https://de.linkedin.com/jobs/view/senior-consumer-insights-brand-researcher-latam-all-genders-at-delivery-hero-se-3328067317?refId=0w%2FbMMHRxxRPSk0T9YEkPw%3D%3D&trackingId=i1wacHdcuKIVrd8H4QRyqA%3D%3D&position=23&pageNum=6&trk=public_jobs_jserp-result_search-card',\n",
       " 'https://de.linkedin.com/jobs/view/duales-studium-b-a-tourismusmanagement-m-w-d-a-o-berlin-hbf-at-a-o-hostels-3330252975?refId=0w%2FbMMHRxxRPSk0T9YEkPw%3D%3D&trackingId=ykH28JfTD8lp5qKDZAYuZw%3D%3D&position=24&pageNum=6&trk=public_jobs_jserp-result_search-card',\n",
       " 'https://de.linkedin.com/jobs/view/anwendungsbetreuer-in-bas-applikationen-m-w-d-entwicklung-qualit%C3%A4tsmanagement-it-at-gasag-gruppe-3313086905?refId=0w%2FbMMHRxxRPSk0T9YEkPw%3D%3D&trackingId=Qp5nn77NuboFzuXoZvRz8A%3D%3D&position=25&pageNum=6&trk=public_jobs_jserp-result_search-card']"
      ]
     },
     "execution_count": 22,
     "metadata": {},
     "output_type": "execute_result"
    }
   ],
   "source": [
    "hrefList"
   ]
  },
  {
   "cell_type": "code",
   "execution_count": 23,
   "id": "1ebae1d0",
   "metadata": {},
   "outputs": [],
   "source": [
    "linklist=pd.DataFrame(hrefList,columns=[\"joblinks\"])"
   ]
  },
  {
   "cell_type": "code",
   "execution_count": 24,
   "id": "0c8e95ec",
   "metadata": {},
   "outputs": [],
   "source": [
    "linklist.to_csv('linkedinlinks.csv')"
   ]
  },
  {
   "cell_type": "code",
   "execution_count": 25,
   "id": "47a6d742",
   "metadata": {},
   "outputs": [],
   "source": [
    "#Close the driver\n",
    "\n",
    "driver.close()"
   ]
  },
  {
   "cell_type": "code",
   "execution_count": null,
   "id": "1df43bdb",
   "metadata": {},
   "outputs": [],
   "source": []
  }
 ],
 "metadata": {
  "kernelspec": {
   "display_name": "Python 3 (ipykernel)",
   "language": "python",
   "name": "python3"
  },
  "language_info": {
   "codemirror_mode": {
    "name": "ipython",
    "version": 3
   },
   "file_extension": ".py",
   "mimetype": "text/x-python",
   "name": "python",
   "nbconvert_exporter": "python",
   "pygments_lexer": "ipython3",
   "version": "3.9.12"
  }
 },
 "nbformat": 4,
 "nbformat_minor": 5
}
